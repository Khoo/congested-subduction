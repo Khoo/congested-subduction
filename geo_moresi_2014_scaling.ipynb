{
 "cells": [
  {
   "cell_type": "markdown",
   "metadata": {},
   "source": [
    "**Scaling**"
   ]
  },
  {
   "cell_type": "code",
   "execution_count": 1,
   "metadata": {},
   "outputs": [
    {
     "name": "stdout",
     "output_type": "stream",
     "text": [
      "loaded rc file /home/jovyan/workspace/codes/UWGeodynamics/UWGeodynamics/uwgeo-data/uwgeodynamicsrc\n"
     ]
    }
   ],
   "source": [
    "import UWGeodynamics as GEO\n",
    "\n",
    "from UWGeodynamics.scaling import units as u\n",
    "from UWGeodynamics.scaling import dimensionalise, non_dimensionalise\n",
    "from UWGeodynamics.scaling import non_dimensionalise as nd"
   ]
  },
  {
   "cell_type": "code",
   "execution_count": 3,
   "metadata": {},
   "outputs": [
    {
     "data": {
      "text/plain": [
       "'/home/jovyan/workspace/codes/UWGeodynamics/UWGeodynamics/__init__.py'"
      ]
     },
     "execution_count": 3,
     "metadata": {},
     "output_type": "execute_result"
    }
   ],
   "source": [
    "GEO.__file__"
   ]
  },
  {
   "cell_type": "code",
   "execution_count": 4,
   "metadata": {},
   "outputs": [],
   "source": [
    "import geo_model_properties as modprop\n",
    "import geo_material_properties as matprop"
   ]
  },
  {
   "cell_type": "code",
   "execution_count": 5,
   "metadata": {},
   "outputs": [],
   "source": [
    "dRho =   80. * u.kilogram / u.meter**3 # matprop.ref_density\n",
    "g    =   10. * u.meter / u.second**2   # modprop.gravity\n",
    "H    = 1000. * u.kilometer #  modprop.boxHeight\n",
    "\n",
    "# lithostatic pressure for mass-time-length\n",
    "ref_stress = dRho * g * H\n",
    "# viscosity of upper mante for mass-time-length\n",
    "ref_viscosity = 1e20 * u.pascal * u.seconds"
   ]
  },
  {
   "cell_type": "code",
   "execution_count": 6,
   "metadata": {},
   "outputs": [],
   "source": [
    "ref_time        = ref_viscosity/ref_stress\n",
    "ref_length      = H\n",
    "ref_mass        = (ref_viscosity*ref_length*ref_time).to_base_units()\n",
    "ref_temperature = modprop.Tint - modprop.Tsurf"
   ]
  },
  {
   "cell_type": "code",
   "execution_count": 7,
   "metadata": {},
   "outputs": [],
   "source": [
    "KL = ref_length       \n",
    "KM = ref_mass         \n",
    "Kt = ref_time\n",
    "KT = ref_temperature\n",
    "\n",
    "scaling_coefficients = GEO.scaling.get_coefficients()\n",
    "# scaling_coefficients = uw.scaling.get_coefficients()\n",
    "\n",
    "scaling_coefficients[\"[length]\"] = KL.to_base_units()\n",
    "scaling_coefficients[\"[time]\"]   = Kt.to_base_units()\n",
    "scaling_coefficients[\"[mass]\"]   = KM.to_base_units()\n",
    "scaling_coefficients[\"[temperature]\"]   = KT.to_base_units()"
   ]
  },
  {
   "cell_type": "code",
   "execution_count": 8,
   "metadata": {},
   "outputs": [
    {
     "data": {
      "text/html": [
       "<table><tr><td>[mass]</td><td>1.25e+37 kilogram</td></tr><tr><td>[length]</td><td>1000000.0 meter</td></tr><tr><td>[temperature]</td><td>1299.85 kelvin</td></tr><tr><td>[time]</td><td>125000000000.0 second</td></tr><tr><td>[substance]</td><td>1.0 mole</td></tr></table>"
      ],
      "text/plain": [
       "{'[length]': 1000000.0 <Unit('meter')>,\n",
       " '[mass]': 1.25e+37 <Unit('kilogram')>,\n",
       " '[time]': 125000000000.0 <Unit('second')>,\n",
       " '[temperature]': 1299.85 <Unit('kelvin')>,\n",
       " '[substance]': 1.0 <Unit('mole')>}"
      ]
     },
     "execution_count": 8,
     "metadata": {},
     "output_type": "execute_result"
    }
   ],
   "source": [
    "scaling_coefficients"
   ]
  },
  {
   "cell_type": "code",
   "execution_count": null,
   "metadata": {},
   "outputs": [],
   "source": []
  }
 ],
 "metadata": {
  "kernelspec": {
   "display_name": "Python 3",
   "language": "python",
   "name": "python3"
  },
  "language_info": {
   "codemirror_mode": {
    "name": "ipython",
    "version": 3
   },
   "file_extension": ".py",
   "mimetype": "text/x-python",
   "name": "python",
   "nbconvert_exporter": "python",
   "pygments_lexer": "ipython3",
   "version": "3.7.3"
  }
 },
 "nbformat": 4,
 "nbformat_minor": 1
}
