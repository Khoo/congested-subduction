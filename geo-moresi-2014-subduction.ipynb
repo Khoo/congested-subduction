{
 "cells": [
  {
   "cell_type": "markdown",
   "metadata": {},
   "source": [
    "Dynamics of continental accretion\n",
    "======\n",
    "\n",
    "This notebook outlines the Underworld model used in the Moresi (2014) paper 'Dynamics of continental accretion'. It reproduces the initial conditions shown in Extended Data Figure 1 and 2 and the numerics required for reproduce Figure 2.\n",
    "\n",
    "\"In order to better understand the behaviour of this ancient plate mar- gin and the growth of the Australian continent, we use three-dimensional (3D) dynamic models of a subducting slab, overriding plate and mantle, building on previous work14–16. The models have a four-layer subduct- ing plate with buoyancy and rheology of each layer pre-calculated from a half-space cooling model of 80 or 120 Myr age, and they include either a weak or a strong viscoplastic overriding plate (Table 1 and Extended Data Figs 1 and 2). The simulations are best understood by viewing movies of the time evolution (Table 1).\"\n",
    "\n",
    "**References**\n",
    "\n",
    "Moresi, L., P. G. Betts, M. S. Miller, and R. A. Cayley. 2014. “Dynamics of Continental Accretion.” Nature 508 (7495): 245–48. [doi:10.1038/nature13033](https://www.nature.com/articles/nature13033)"
   ]
  },
  {
   "cell_type": "code",
   "execution_count": 1,
   "metadata": {},
   "outputs": [
    {
     "name": "stdout",
     "output_type": "stream",
     "text": [
      "loaded rc file /opt/venv/lib/python3.7/site-packages/UWGeodynamics/uwgeo-data/uwgeodynamicsrc\n"
     ]
    }
   ],
   "source": [
    "# core UW bit\n",
    "import UWGeodynamics as GEO\n",
    "from UWGeodynamics import visualisation as vis\n",
    "from UWGeodynamics.scaling import units as u\n",
    "from UWGeodynamics.scaling import dimensionalise\n",
    "from UWGeodynamics.scaling import non_dimensionalise as nd"
   ]
  },
  {
   "cell_type": "code",
   "execution_count": 2,
   "metadata": {},
   "outputs": [],
   "source": [
    "# 3rd party python modules\n",
    "import math\n",
    "import numpy as np\n",
    "import os\n",
    "import scipy"
   ]
  },
  {
   "cell_type": "code",
   "execution_count": 3,
   "metadata": {},
   "outputs": [],
   "source": [
    "import geo_model_properties as modprop\n",
    "import relrho_geo_material_properties as matprop"
   ]
  },
  {
   "cell_type": "code",
   "execution_count": 4,
   "metadata": {},
   "outputs": [],
   "source": [
    "# shortcuts for parallel wrappers\n",
    "barrier = GEO.uw.mpi.barrier\n",
    "rank    = GEO.rank"
   ]
  },
  {
   "cell_type": "code",
   "execution_count": 5,
   "metadata": {},
   "outputs": [],
   "source": [
    "outputPath = os.path.join(os.path.abspath(\".\"),\"output/\")\n",
    "\n",
    "if rank==0:\n",
    "    if not os.path.exists(outputPath):\n",
    "        os.makedirs(outputPath)\n",
    "barrier()"
   ]
  },
  {
   "cell_type": "code",
   "execution_count": 6,
   "metadata": {},
   "outputs": [
    {
     "data": {
      "text/html": [
       "<table><tr><td>[mass]</td><td>1.25e+37 kilogram</td></tr><tr><td>[length]</td><td>1000000.0 meter</td></tr><tr><td>[temperature]</td><td>1299.85 kelvin</td></tr><tr><td>[time]</td><td>125000000000.0 second</td></tr><tr><td>[substance]</td><td>1.0 mole</td></tr></table>"
      ],
      "text/plain": [
       "{'[length]': 1000000.0 <Unit('meter')>,\n",
       " '[mass]': 1.25e+37 <Unit('kilogram')>,\n",
       " '[time]': 125000000000.0 <Unit('second')>,\n",
       " '[temperature]': 1299.85 <Unit('kelvin')>,\n",
       " '[substance]': 1.0 <Unit('mole')>}"
      ]
     },
     "execution_count": 6,
     "metadata": {},
     "output_type": "execute_result"
    }
   ],
   "source": [
    "# Scaling\n",
    "%run geo-moresi-2014-scaling.ipynb\n",
    "scaling_coefficients"
   ]
  },
  {
   "cell_type": "code",
   "execution_count": 7,
   "metadata": {},
   "outputs": [
    {
     "data": {
      "text/html": [
       "<table><tr><td>[mass]</td><td>1.25e+37 kilogram</td></tr><tr><td>[length]</td><td>1000000.0 meter</td></tr><tr><td>[temperature]</td><td>1299.85 kelvin</td></tr><tr><td>[time]</td><td>125000000000.0 second</td></tr><tr><td>[substance]</td><td>1.0 mole</td></tr></table>"
      ],
      "text/plain": [
       "{'[length]': 1000000.0 <Unit('meter')>,\n",
       " '[mass]': 1.25e+37 <Unit('kilogram')>,\n",
       " '[time]': 125000000000.0 <Unit('second')>,\n",
       " '[temperature]': 1299.85 <Unit('kelvin')>,\n",
       " '[substance]': 1.0 <Unit('mole')>}"
      ]
     },
     "execution_count": 7,
     "metadata": {},
     "output_type": "execute_result"
    }
   ],
   "source": [
    "GEO.scaling.get_coefficients()"
   ]
  },
  {
   "cell_type": "code",
   "execution_count": 8,
   "metadata": {},
   "outputs": [
    {
     "data": {
      "text/html": [
       "10000000.0 meter"
      ],
      "text/latex": [
       "$10000000.0\\ \\mathrm{meter}$"
      ],
      "text/plain": [
       "10000000.0 <Unit('meter')>"
      ]
     },
     "execution_count": 8,
     "metadata": {},
     "output_type": "execute_result"
    }
   ],
   "source": [
    "dimensionalise(10.,u.meters)"
   ]
  },
  {
   "cell_type": "code",
   "execution_count": 9,
   "metadata": {},
   "outputs": [
    {
     "data": {
      "text/plain": [
       "0.125"
      ]
     },
     "execution_count": 9,
     "metadata": {},
     "output_type": "execute_result"
    }
   ],
   "source": [
    "non_dimensionalise(100.*u.megapascal)"
   ]
  },
  {
   "cell_type": "code",
   "execution_count": 10,
   "metadata": {},
   "outputs": [
    {
     "name": "stdout",
     "output_type": "stream",
     "text": [
      "Value of 0.1 as a stress =  79.99999999999999 megapascal\n",
      "Dimensionless Value of 100*u.megapascal is =  0.125\n"
     ]
    }
   ],
   "source": [
    "# double check scaling\n",
    "if rank == 0:\n",
    "    print(\"Value of 0.1 as a stress = \",\n",
    "          dimensionalise(0.1,u.megapascal))\n",
    "    \n",
    "    \n",
    "    print(\"Dimensionless Value of 100*u.megapascal is = \", \n",
    "          nd(100.*u.megapascal))\n"
   ]
  },
  {
   "cell_type": "markdown",
   "metadata": {},
   "source": [
    "**Setup parameters**\n"
   ]
  },
  {
   "cell_type": "code",
   "execution_count": 11,
   "metadata": {},
   "outputs": [],
   "source": [
    "# xRes = 256\n",
    "# yRes =  96 \n",
    "# zRes =  96\n",
    "\n",
    "xRes = 124\n",
    "yRes = 44\n",
    "zRes = 44\n",
    "\n",
    "dim = 3\n",
    "\n",
    "checkpoint_restart = False\n",
    "if checkpoint_restart == True:\n",
    "    # you need to define these\n",
    "    outputPath_restart = os.path.join(os.path.abspath(\".\"),\"output_checkPoint_restart/\")\n",
    "    time = 4.38067181e+03\n",
    "    step = 1"
   ]
  },
  {
   "cell_type": "code",
   "execution_count": 12,
   "metadata": {},
   "outputs": [],
   "source": [
    "# # Domain\n",
    "# boxLength = nd(modprop.boxLength)\n",
    "# boxHeight = nd(modprop.boxHeight)\n",
    "# boxWidth  = nd(modprop.boxWidth)"
   ]
  },
  {
   "cell_type": "markdown",
   "metadata": {},
   "source": [
    "**Create mesh and finite element variables**"
   ]
  },
  {
   "cell_type": "code",
   "execution_count": 13,
   "metadata": {},
   "outputs": [],
   "source": [
    "# if dim==2:\n",
    "#     elementRes  = (xRes, yRes)\n",
    "#     minCoord    = (0., -nd(boxHeight)) \n",
    "#     maxCoord    = (nd(boxLength), 0.)\n",
    "# else:\n",
    "#     elementRes  = (xRes, yRes, zRes)\n",
    "#     minCoord    = (0., -nd(boxHeight), 0.) \n",
    "#     maxCoord    = (nd(boxLength), 0., nd(boxWidth))\n",
    "\n",
    "# mesh = uw.mesh.FeMesh_Cartesian( elementType = (\"Q1/dQ0\"),\n",
    "#                                  elementRes  = elementRes, \n",
    "#                                  minCoord    = minCoord,\n",
    "#                                  maxCoord    = maxCoord,\n",
    "#                                ) "
   ]
  },
  {
   "cell_type": "code",
   "execution_count": 14,
   "metadata": {},
   "outputs": [],
   "source": [
    "# Domain\n",
    "boxLength = modprop.boxLength\n",
    "boxHeight = modprop.boxHeight\n",
    "boxWidth  = modprop.boxWidth"
   ]
  },
  {
   "cell_type": "code",
   "execution_count": 15,
   "metadata": {},
   "outputs": [],
   "source": [
    "# Define our vertical unit vector using a python tuple\n",
    "if dim == 2:\n",
    "    elementRes = (xRes, yRes)\n",
    "    minCoord   = (0., -boxHeight)\n",
    "    maxCoord   = (boxLength, 0.)\n",
    "    z_hat = ( 0.0, 1.0)\n",
    "    \n",
    "else:\n",
    "    elementRes = (xRes, yRes, zRes)\n",
    "    minCoord   = (0., -boxHeight, 0.)\n",
    "    maxCoord   = (boxLength, 0., boxWidth)\n",
    "    z_hat = ( 0.0, 1.0, 0.0 )\n",
    "    \n",
    "Model = GEO.Model(elementRes = elementRes,\n",
    "                  minCoord   = minCoord,\n",
    "                  maxCoord   = maxCoord,\n",
    "                  gravity    = z_hat )"
   ]
  },
  {
   "cell_type": "markdown",
   "metadata": {},
   "source": [
    "### Questions: _postSoftening_\n",
    "\n",
    "This looks like a 'hasYielded' swarm variable. It is a bool, initially set to 0 and set to 1 iff the particle has yielded at any stage. Once triggered a 1 can't heal back to 0. It enables a bifurication of the cohesion value used in the vonMises yield criterion.\n",
    "\n",
    "I could add a swarm variable for _postSoftening_ variable in the original model of Bec's\n",
    "`Model.add_swarm_variable`\n",
    "\n",
    "or is the `_ViscosityFunction._isYielding` from `UWGeo`"
   ]
  },
  {
   "cell_type": "markdown",
   "metadata": {},
   "source": [
    "**checkpoint_restart**"
   ]
  },
  {
   "cell_type": "code",
   "execution_count": 18,
   "metadata": {},
   "outputs": [],
   "source": [
    "# # if reloading from checkpoint\n",
    "if checkpoint_restart == True:\n",
    "    swarm.load(         outputPath_restart+'swarm.'         + str(step).zfill(5) +'.h5')\n",
    "    materialIndex.load( outputPath_restart+'materialIndex.' + str(step).zfill(5) +'.h5')\n",
    "    postSoftening.load( outputPath_restart+'postSoftening.' + str(step).zfill(5) +'.h5')\n",
    "else:\n",
    "#     swarmLayout = uw.swarm.layouts.PerCellSpaceFillerLayout( swarm=swarm, particlesPerCell=particlesPerCell )\n",
    "#     swarm.populate_using_layout( layout=swarmLayout )\n",
    "#     postSoftening.data[:] = 0 # initial softening flag to False\n",
    "    %run geo-moresi-2014-material-layout.ipynb\n",
    "    %run relrho_geo_material_properties.py\n",
    "#     if dim == 2:\n",
    "#         materialIndex.data[:] = fn.branching.conditional( conditions_2d ).evaluate(Model.swarm)\n",
    "#     else:\n",
    "#         materialIndex.data[:] = fn.branching.conditional( conditions_3d ).evaluate(swarm)\n",
    "    "
   ]
  },
  {
   "cell_type": "code",
   "execution_count": 19,
   "metadata": {},
   "outputs": [
    {
     "name": "stdout",
     "output_type": "stream",
     "text": [
      "Creating upper mantle\n",
      "Creating craton2\n",
      "Creating craton1\n",
      "Creating trans2\n",
      "Creating trans1\n",
      "Creating backArc2\n",
      "Creating backArc1\n",
      "Creating oceanic plate 4\n",
      "Creating oceanic plate 3\n",
      "Creating oceanic plate 2\n",
      "Creating oceanic plate 1\n",
      "Creating buoyStrip\n",
      "Creating lower mantle\n"
     ]
    }
   ],
   "source": [
    "# search through layout file and link geometries to materials\n",
    "# ie conditions_3d -> material_list\n",
    "### CAN \n",
    "# \n",
    "below_150km = Model.y < nd(-150.*u.kilometers)\n",
    "\n",
    "for i in reversed(conditions_3d):  # IMPORTANT 'reversed'\n",
    "    index = i[1]                   # find material index\n",
    "    for x in material_list:        # if index in material_list\n",
    "        if x[\"index\"] == index:    # create material with Polygon() shape\n",
    "            print(\"Creating\", x[\"name\"])\n",
    "            m = Model.add_material(name=x[\"name\"], shape=i[0])\n",
    "            \n",
    "            m.density   = x[\"density\"]\n",
    "            m.viscosity = x[\"viscosity\"]\n",
    "            \n",
    "            c0 = x[\"cohesion\"]\n",
    "            c2 = x[\"cohesion2\"] if x.get('cohesion2') else None\n",
    "            m.plasticity = GEO.VonMises(cohesion = c0,\n",
    "                                        cohesionAfterSoftening = c2)\n"
   ]
  },
  {
   "cell_type": "markdown",
   "metadata": {},
   "source": [
    "**Eclogite transition**\n",
    "\n",
    "Assume that the oceanic crust transforms instantaneously and completely to eclogite at a depth of 150 km"
   ]
  },
  {
   "cell_type": "code",
   "execution_count": 20,
   "metadata": {},
   "outputs": [],
   "source": [
    "# We predefine the phase change material by hand\n",
    "# because it does't exist initially.\n",
    "# The phase change is between \n",
    "# 'oceanic plate 1' -> 'oceanic plate 1 after phase change'\n",
    "# see file geo_material_properties.py\n",
    "\n",
    "# Get the phase change by hand\n",
    "m = material_list[3]\n",
    "# register new material\n",
    "op_change = Model.add_material(name=m[\"name\"])\n",
    "op_change.density   = m[\"density\"]\n",
    "op_change.viscosity = m[\"viscosity\"]\n",
    "c0 = m[\"cohesion\"]\n",
    "c2 = m[\"cohesion2\"] if m.get('cohesion2') else None\n",
    "op_change.plasticity = GEO.VonMises(cohesion = c0,\n",
    "                            cohesionAfterSoftening = c2)\n",
    "\n",
    "# now assign a `PhaseChange` to the newly registered material\n",
    "for m in Model.materials:\n",
    "    if m.name == \"oceanic plate 1\":\n",
    "        break\n",
    "m.phase_changes = GEO.PhaseChange( (Model.y < nd(-150.*u.kilometers)),\n",
    "                                  op_change.index) "
   ]
  },
  {
   "cell_type": "code",
   "execution_count": null,
   "metadata": {},
   "outputs": [],
   "source": [
    "figsize=(1000,300)\n",
    "camera = ['rotate x 30']\n",
    "boundingBox=( minCoord, maxCoord )\n",
    "\n",
    "materialFilter = Model.materialField > 1\n",
    "\n",
    "\n",
    "# ERROR with boundaringBox, maybe BUG for Okaluza\n",
    "# figSwarm = vis.Figure(figsize=figsize, boundingBox=boundingBox )\n",
    "\n",
    "# swarmPlot = vis.objects.Points(swarm, materialIndex, materialFilter, colours='gray', opacity=0.5, fn_size=2., \n",
    "#                                     discrete=True, colourBar=False, )\n",
    "\n",
    "Fig = vis.Figure(figsize=(1200,400))\n",
    "\n",
    "# Show single colour\n",
    "# Fig.Points(Model.swarm, colour='gray', opacity=0.5, discrete=True, \n",
    "#            fn_mask=materialFilter, fn_size=2.0, colourBar=False)\n",
    "\n",
    "# Show all glory\n",
    "Fig.Points(Model.swarm, fn_colour=Model.materialField, \n",
    "           fn_mask=materialFilter, opacity=0.5, fn_size=2.0)\n",
    "\n",
    "# Save image to disk\n",
    "# Fig.save(\"Figure_1.png\")\n",
    "\n",
    "# Rotate camera angle\n",
    "Fig.script(camera)\n",
    "\n",
    "# Render in notebook\n",
    "Fig.show()"
   ]
  },
  {
   "cell_type": "code",
   "execution_count": 24,
   "metadata": {},
   "outputs": [],
   "source": [
    "# build 3D surface tracers, ie y=0. NOT available for 2D\n",
    "def tracer_coords(name, minX, maxX, minZ, maxZ):\n",
    "    \n",
    "    xx = np.linspace(minX, maxX, max(1, int(maxX-minX))*100)\n",
    "    yy = np.zeros(1)\n",
    "    zz = np.linspace(minZ, maxZ, max(1, int(maxX-minX))*100)\n",
    "\n",
    "    xx, yy, zz = np.meshgrid(xx,yy,zz)\n",
    "        \n",
    "    tracers = Model.add_passive_tracers(name,\n",
    "                                        vertices  = [0.,0.,0.],\n",
    "                                        centroids = [xx, yy, zz]) "
   ]
  },
  {
   "cell_type": "code",
   "execution_count": 25,
   "metadata": {},
   "outputs": [],
   "source": [
    "# Over-riding plate particles\n",
    "tracer_coords(\"orp\", nd(backarc_xStart),nd(slab_xStart),\n",
    "              0., nd(boxWidth))\n",
    "tracer_coords(\"slab\",nd(slab_xStart),nd(bouyStrip_xStart),\n",
    "              0., nd(slab_dz))\n",
    "tracer_coords(\"cont\", nd(craton_xStart), nd(backarc_xStart),\n",
    "              0., nd(boxWidth))\n",
    "tracer_coords(\"arc\", nd(ribbon_xStart), nd(ribbon_xStart+ribbon_dx),\n",
    "              nd(ribbon_dz), nd(boxWidth))\n",
    "tracer_coords(\"buoy\", nd(bouyStrip_xStart), nd(slab_xStart+slab_dx),\n",
    "              0., nd(slab_dz))"
   ]
  },
  {
   "cell_type": "code",
   "execution_count": 26,
   "metadata": {},
   "outputs": [],
   "source": [
    "on_grid_x = fn.math.sin(10.*np.pi*Model.x) > 0.9\n",
    "on_grid_y = fn.math.sin(10.*np.pi*Model.z) > 0.9\n",
    "\n",
    "grid_conditions = [  \n",
    "                    ( on_grid_x, 1.),\n",
    "                    ( on_grid_y, 1.),\n",
    "                    ( True, -1.),\n",
    "                  ]\n",
    "\n",
    "for t in Model.passive_tracers.items():\n",
    "    new_var = t[1].add_variable(dataType=\"float\", count=1)\n",
    "    new_var.data[:] = fn.branching.conditional(grid_conditions).evaluate(t[1])"
   ]
  },
  {
   "cell_type": "code",
   "execution_count": 27,
   "metadata": {},
   "outputs": [
    {
     "data": {
      "text/plain": [
       "odict_keys(['orp', 'slab', 'cont', 'arc', 'buoy'])"
      ]
     },
     "execution_count": 27,
     "metadata": {},
     "output_type": "execute_result"
    }
   ],
   "source": [
    "Model.passive_tracers.keys()"
   ]
  },
  {
   "cell_type": "code",
   "execution_count": null,
   "metadata": {},
   "outputs": [],
   "source": [
    "FigTracers = vis.Figure(figsize=(1200,400))\n",
    "\n",
    "# Show single colour\n",
    "# Fig.Points(Model.swarm, colour='gray', opacity=0.5, discrete=True, \n",
    "#            fn_mask=materialFilter, fn_size=2.0, colourBar=False)\n",
    "\n",
    "# Show all glory\n",
    "FigTracers.Points(Model.swarm, fn_colour=Model.materialField, \n",
    "           fn_mask=materialFilter, opacity=0.5, fn_size=2.0)\n",
    "\n",
    "def get_show_tracer(name, colours):\n",
    "    t = Model.passive_tracers.get(name)\n",
    "    if not t: raise RuntimeError(\"ERROR: fine tracer called \", name)\n",
    "    \n",
    "    FigTracers.Points(t, t.variables[-1],fn_size=2.,\n",
    "                      colours=colours,opacity=0.5,colourBar=False)\n",
    "    \n",
    "if dim == 3:\n",
    "    \n",
    "    get_show_tracer(name='orp', colours=\"#22BBBB #335588\")\n",
    "    get_show_tracer(name='slab', colours=\"Gray40 Goldenrod\")\n",
    "    get_show_tracer(name='cont', colours=\"#335588 #22BBBB\")\n",
    "    get_show_tracer(name='arc', colours=\"Goldenrod Grey41\")\n",
    "    get_show_tracer(name='buoy', colours=\"#335588 #335588\")\n",
    "\n",
    "# Rotate camera angle\n",
    "FigTracers.script(camera)\n",
    "\n",
    "# Render in notebook\n",
    "FigTracers.show()"
   ]
  },
  {
   "cell_type": "code",
   "execution_count": 29,
   "metadata": {},
   "outputs": [],
   "source": [
    "Model.minViscosity = dimensionalise(1., u.Pa * u.sec)\n",
    "Model.maxViscosity = dimensionalise(1e5, u.Pa * u.sec)"
   ]
  },
  {
   "cell_type": "code",
   "execution_count": 30,
   "metadata": {},
   "outputs": [
    {
     "data": {
      "text/plain": [
       "<underworld.conditions._conditions.DirichletCondition at 0x7f5b8515ccc0>"
      ]
     },
     "execution_count": 30,
     "metadata": {},
     "output_type": "execute_result"
    }
   ],
   "source": [
    "Model.set_velocityBCs( left=[0.,None,None], right=[0.,None,None],\n",
    "                       bottom=[None,0.,None], top=[None,0.,None],\n",
    "                       front=[None,None,0.], back=[None,None,0.])"
   ]
  },
  {
   "cell_type": "code",
   "execution_count": 31,
   "metadata": {},
   "outputs": [],
   "source": [
    "Model.init_model()"
   ]
  },
  {
   "cell_type": "code",
   "execution_count": 32,
   "metadata": {},
   "outputs": [],
   "source": [
    "# figViscosity = vis.Figure(figsize=figsize, axis=True)\n",
    "# figViscosity.append( vis.objects.Points(swarm, viscosityFn, colours='dem1', fn_size=2., logScale=True) )\n",
    "# if dim == 3:\n",
    "#     figViscosity.script(camera)\n",
    "# figViscosity.show()"
   ]
  },
  {
   "cell_type": "code",
   "execution_count": null,
   "metadata": {},
   "outputs": [],
   "source": [
    "Fig = vis.Figure(figsize=(1200,400))\n",
    "\n",
    "# Show all glory\n",
    "Fig.Points(Model.swarm, fn_colour=Model.densityField, \n",
    "           fn_mask=materialFilter, opacity=0.5, fn_size=2.0)\n",
    "\n",
    "# Rotate camera angle\n",
    "Fig.script(camera)\n",
    "\n",
    "# Render in notebook\n",
    "Fig.show()"
   ]
  },
  {
   "cell_type": "code",
   "execution_count": null,
   "metadata": {
    "collapsed": true
   },
   "outputs": [],
   "source": [
    "if rank == 0:\n",
    "    with open(outputPath+'FrequentOutput.dat','a') as f:\n",
    "         f.write('step\\t time(yr)\\t Vrms(cm/yr)\\n')\n",
    "            \n",
    "def post_solve_hook():\n",
    "    vrms = Model.stokes_SLE.velocity_rms()\n",
    "    step = Model.step\n",
    "    time = Model.time.to(u.megayear)\n",
    "    \n",
    "    if rank == 0:\n",
    "        with open(outputPath+'FrequentOutput.dat','a') as f:\n",
    "             f.write(f\"{step}\\t{time:5e}\\t{vrms:5e})\n",
    "        \n",
    "Model.post_solve_functions[\"Measurements\"] = post_solve_hook"
   ]
  },
  {
   "cell_type": "code",
   "execution_count": null,
   "metadata": {},
   "outputs": [],
   "source": [
    "# System level solver options\n",
    "solver.options.main.Q22_pc_type = \"uwscale\"\n",
    "solver.options.main.ksp_k2_type = \"GMG\"\n",
    "solver.options.main.ksp_type    = \"bsscr\"\n",
    "solver.options.main.pc_type     = \"none\"\n",
    "solver.options.main.penalty     = 50.\n",
    "#solver.options.main.list()"
   ]
  },
  {
   "cell_type": "code",
   "execution_count": null,
   "metadata": {},
   "outputs": [],
   "source": [
    "# Schur complement solver options\n",
    "solver.options.scr.ksp_rtol = 1.0e-3 \n",
    "solver.options.scr.ksp_type = \"fgmres\"\n",
    "#solver.options.main.list()"
   ]
  },
  {
   "cell_type": "code",
   "execution_count": null,
   "metadata": {},
   "outputs": [],
   "source": [
    "# Inner solve (velocity), A11 options\n",
    "solver.options.A11.ksp_rtol = 1.0e-4\n",
    "solver.options.A11.ksp_type = \"fgmres\"\n",
    "#solver.options.A11.list()"
   ]
  },
  {
   "cell_type": "code",
   "execution_count": null,
   "metadata": {},
   "outputs": [],
   "source": [
    "solver.print_petsc_options()"
   ]
  },
  {
   "cell_type": "code",
   "execution_count": null,
   "metadata": {},
   "outputs": [],
   "source": [
    "# use \"lu\" direct solve if running in serial\n",
    "if(uw.nProcs==1):\n",
    "    solver.set_inner_method(\"lu\")"
   ]
  },
  {
   "cell_type": "code",
   "execution_count": null,
   "metadata": {},
   "outputs": [],
   "source": [
    "Model.run_for(nstep=5, checkpoint_interval=1)"
   ]
  }
 ],
 "metadata": {
  "kernelspec": {
   "display_name": "Python 3",
   "language": "python",
   "name": "python3"
  },
  "language_info": {
   "codemirror_mode": {
    "name": "ipython",
    "version": 3
   },
   "file_extension": ".py",
   "mimetype": "text/x-python",
   "name": "python",
   "nbconvert_exporter": "python",
   "pygments_lexer": "ipython3",
   "version": "3.7.3"
  }
 },
 "nbformat": 4,
 "nbformat_minor": 1
}
